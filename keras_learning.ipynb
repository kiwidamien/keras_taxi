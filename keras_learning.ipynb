{
 "cells": [
  {
   "cell_type": "markdown",
   "metadata": {},
   "source": [
    "# Neural Nets for Feature Engineering"
   ]
  },
  {
   "cell_type": "markdown",
   "metadata": {},
   "source": [
    "This notebook gives an example of using NN to do feature engineering. Specifically, for the Taxi dataset, we might wonder how to encode the time feature. Here we get a NN to learn the model, and then use that to motivate a transformation."
   ]
  },
  {
   "cell_type": "markdown",
   "metadata": {},
   "source": [
    "## Imports"
   ]
  },
  {
   "cell_type": "code",
   "execution_count": 37,
   "metadata": {},
   "outputs": [],
   "source": [
    "import pathlib\n",
    "import pandas as pd\n",
    "import numpy as np\n",
    "import matplotlib.pyplot as plt\n",
    "\n",
    "%matplotlib inline\n",
    "\n",
    "from sklearn.preprocessing import RobustScaler\n",
    "\n",
    "import keras\n",
    "from keras.layers import Input, Embedding, Dense, Dropout, Concatenate\n",
    "from keras.models import Model, Sequential\n",
    "from keras.callbacks import EarlyStopping"
   ]
  },
  {
   "cell_type": "markdown",
   "metadata": {},
   "source": [
    "## Load data"
   ]
  },
  {
   "cell_type": "code",
   "execution_count": 2,
   "metadata": {},
   "outputs": [
    {
     "data": {
      "text/html": [
       "<div>\n",
       "<style scoped>\n",
       "    .dataframe tbody tr th:only-of-type {\n",
       "        vertical-align: middle;\n",
       "    }\n",
       "\n",
       "    .dataframe tbody tr th {\n",
       "        vertical-align: top;\n",
       "    }\n",
       "\n",
       "    .dataframe thead th {\n",
       "        text-align: right;\n",
       "    }\n",
       "</style>\n",
       "<table border=\"1\" class=\"dataframe\">\n",
       "  <thead>\n",
       "    <tr style=\"text-align: right;\">\n",
       "      <th></th>\n",
       "      <th>tpep_pickup_datetime</th>\n",
       "      <th>passenger_count</th>\n",
       "      <th>trip_distance</th>\n",
       "      <th>DOLocationID</th>\n",
       "      <th>durations_minutes</th>\n",
       "    </tr>\n",
       "  </thead>\n",
       "  <tbody>\n",
       "    <tr>\n",
       "      <th>0</th>\n",
       "      <td>2018-01-01 00:19:12</td>\n",
       "      <td>2</td>\n",
       "      <td>1.13</td>\n",
       "      <td>161</td>\n",
       "      <td>15.616667</td>\n",
       "    </tr>\n",
       "    <tr>\n",
       "      <th>1</th>\n",
       "      <td>2018-01-01 00:58:14</td>\n",
       "      <td>1</td>\n",
       "      <td>3.00</td>\n",
       "      <td>224</td>\n",
       "      <td>17.333333</td>\n",
       "    </tr>\n",
       "    <tr>\n",
       "      <th>2</th>\n",
       "      <td>2018-01-01 00:28:40</td>\n",
       "      <td>1</td>\n",
       "      <td>1.10</td>\n",
       "      <td>162</td>\n",
       "      <td>4.500000</td>\n",
       "    </tr>\n",
       "    <tr>\n",
       "      <th>3</th>\n",
       "      <td>2018-01-01 00:59:59</td>\n",
       "      <td>1</td>\n",
       "      <td>0.93</td>\n",
       "      <td>237</td>\n",
       "      <td>5.016667</td>\n",
       "    </tr>\n",
       "    <tr>\n",
       "      <th>4</th>\n",
       "      <td>2018-01-01 00:25:58</td>\n",
       "      <td>1</td>\n",
       "      <td>3.40</td>\n",
       "      <td>224</td>\n",
       "      <td>20.600000</td>\n",
       "    </tr>\n",
       "  </tbody>\n",
       "</table>\n",
       "</div>"
      ],
      "text/plain": [
       "  tpep_pickup_datetime  passenger_count  trip_distance  DOLocationID  \\\n",
       "0  2018-01-01 00:19:12                2           1.13           161   \n",
       "1  2018-01-01 00:58:14                1           3.00           224   \n",
       "2  2018-01-01 00:28:40                1           1.10           162   \n",
       "3  2018-01-01 00:59:59                1           0.93           237   \n",
       "4  2018-01-01 00:25:58                1           3.40           224   \n",
       "\n",
       "   durations_minutes  \n",
       "0          15.616667  \n",
       "1          17.333333  \n",
       "2           4.500000  \n",
       "3           5.016667  \n",
       "4          20.600000  "
      ]
     },
     "execution_count": 2,
     "metadata": {},
     "output_type": "execute_result"
    }
   ],
   "source": [
    "file_location = pathlib.Path.cwd() / 'data' / 'taxi_clean_reduced.csv'\n",
    "taxi_df = pd.read_csv(file_location, parse_dates=['tpep_pickup_datetime'])\n",
    "taxi_df.head()"
   ]
  },
  {
   "cell_type": "code",
   "execution_count": 3,
   "metadata": {},
   "outputs": [],
   "source": [
    "taxi_df = taxi_df[taxi_df['durations_minutes'] < 1000]"
   ]
  },
  {
   "cell_type": "code",
   "execution_count": 4,
   "metadata": {},
   "outputs": [],
   "source": [
    "dates = taxi_df.iloc[:, 0]"
   ]
  },
  {
   "cell_type": "code",
   "execution_count": 5,
   "metadata": {},
   "outputs": [],
   "source": [
    "def second_in_day(series):\n",
    "    return ((series.dt.hour*60+series.dt.minute)*60+series.dt.second).astype(np.float)\n",
    "\n",
    "def day_of_week(series):\n",
    "    return series.dt.dayofweek"
   ]
  },
  {
   "cell_type": "markdown",
   "metadata": {},
   "source": [
    "## Split into train/test"
   ]
  },
  {
   "cell_type": "code",
   "execution_count": 6,
   "metadata": {},
   "outputs": [],
   "source": [
    "mask = (taxi_df.iloc[:, 0] < '2018-01-24')\n",
    "X_train, X_test = taxi_df[mask].drop('durations_minutes', axis=1),\\\n",
    "                  taxi_df[~mask].drop('durations_minutes', axis=1)\n",
    "y_train, y_test = taxi_df[mask].durations_minutes, taxi_df[~mask].durations_minutes"
   ]
  },
  {
   "cell_type": "code",
   "execution_count": 7,
   "metadata": {},
   "outputs": [
    {
     "data": {
      "text/plain": [
       "86400"
      ]
     },
     "execution_count": 7,
     "metadata": {},
     "output_type": "execute_result"
    }
   ],
   "source": [
    "24*60*60"
   ]
  },
  {
   "cell_type": "code",
   "execution_count": 8,
   "metadata": {},
   "outputs": [
    {
     "data": {
      "text/plain": [
       "((254680,), (105793,))"
      ]
     },
     "execution_count": 8,
     "metadata": {},
     "output_type": "execute_result"
    }
   ],
   "source": [
    "y_train.shape, y_test.shape"
   ]
  },
  {
   "cell_type": "code",
   "execution_count": 9,
   "metadata": {},
   "outputs": [],
   "source": [
    "x_train_time = np.concatenate([second_in_day(X_train.iloc[:,0]).values.reshape(-1,1)/86400.0, \n",
    "                               day_of_week(X_train.iloc[:, 0]).values.reshape(-1,1)/6.0], axis=1)\n",
    "x_train_other= X_train[['passenger_count', 'trip_distance']].values"
   ]
  },
  {
   "cell_type": "markdown",
   "metadata": {},
   "source": [
    "## Make a model: functional model"
   ]
  },
  {
   "cell_type": "code",
   "execution_count": 10,
   "metadata": {},
   "outputs": [],
   "source": [
    "time_input = Input(shape=(2,), dtype='float32', name='time_input')\n",
    "x = Dense(16, activation='relu', name='layer1')(time_input)\n",
    "x = Dense(4, activation='relu', name='layer2')(x)\n",
    "time_output = Dense(1, activation='linear', name='time_output')(x)"
   ]
  },
  {
   "cell_type": "code",
   "execution_count": 11,
   "metadata": {},
   "outputs": [],
   "source": [
    "other_input = Input(shape=(2,), dtype='float32', name='other_input')\n",
    "x = keras.layers.concatenate([time_output, other_input])\n",
    "main_output = Dense(1, activation='linear')(x)"
   ]
  },
  {
   "cell_type": "code",
   "execution_count": 12,
   "metadata": {},
   "outputs": [],
   "source": [
    "model = Model(inputs=[time_input, other_input], outputs=[main_output])"
   ]
  },
  {
   "cell_type": "code",
   "execution_count": 13,
   "metadata": {},
   "outputs": [],
   "source": [
    "model.compile(optimizer='adam', loss='mean_squared_error')"
   ]
  },
  {
   "cell_type": "markdown",
   "metadata": {},
   "source": [
    "### Train the model"
   ]
  },
  {
   "cell_type": "code",
   "execution_count": 14,
   "metadata": {},
   "outputs": [
    {
     "name": "stdout",
     "output_type": "stream",
     "text": [
      "Train on 247039 samples, validate on 7641 samples\n",
      "Epoch 1/25\n",
      "247039/247039 [==============================] - 11s 44us/step - loss: 48.3549 - val_loss: 18.3811\n",
      "Epoch 2/25\n",
      "247039/247039 [==============================] - 11s 43us/step - loss: 35.0316 - val_loss: 16.6448\n",
      "Epoch 3/25\n",
      "247039/247039 [==============================] - 11s 43us/step - loss: 34.3052 - val_loss: 16.4798\n",
      "Epoch 4/25\n",
      "247039/247039 [==============================] - 11s 43us/step - loss: 34.1860 - val_loss: 16.3677\n",
      "Epoch 5/25\n",
      "247039/247039 [==============================] - 11s 43us/step - loss: 34.1118 - val_loss: 16.3972\n",
      "Epoch 6/25\n",
      "247039/247039 [==============================] - 11s 43us/step - loss: 34.0595 - val_loss: 16.4238\n"
     ]
    }
   ],
   "source": [
    "history = model.fit([x_train_time, x_train_other], y_train, epochs=25, \n",
    "                    validation_split=0.03, callbacks=[EarlyStopping(patience=2)])"
   ]
  },
  {
   "cell_type": "code",
   "execution_count": 15,
   "metadata": {},
   "outputs": [],
   "source": [
    "y_predict = model.predict([x_train_time, x_train_other])"
   ]
  },
  {
   "cell_type": "markdown",
   "metadata": {},
   "source": [
    "## Check model predictions on random subset"
   ]
  },
  {
   "cell_type": "code",
   "execution_count": 23,
   "metadata": {},
   "outputs": [
    {
     "data": {
      "text/plain": [
       "2542"
      ]
     },
     "execution_count": 23,
     "metadata": {},
     "output_type": "execute_result"
    }
   ],
   "source": [
    "selection = np.random.random(size=(x_train_time.shape[0],)) < 0.01\n",
    "print(f\"Looking at {selection.sum()} samples in plot\")\n",
    "\n",
    "y_train_predict = model.predict([x_train_time[selection,:], x_train_other[selection,:]])"
   ]
  },
  {
   "cell_type": "code",
   "execution_count": 27,
   "metadata": {},
   "outputs": [
    {
     "data": {
      "text/plain": [
       "(-50, 50)"
      ]
     },
     "execution_count": 27,
     "metadata": {},
     "output_type": "execute_result"
    },
    {
     "data": {
      "image/png": "[encoded data removed]",
      "text/plain": [
       "<Figure size 432x288 with 1 Axes>"
      ]
     },
     "metadata": {
      "needs_background": "light"
     },
     "output_type": "display_data"
    }
   ],
   "source": [
    "plt.plot(y_train_predict, y_train[selection] - y_train_predict.reshape(-1,), 'o', alpha=0.1)\n",
    "plt.ylim(-50,50)"
   ]
  },
  {
   "cell_type": "markdown",
   "metadata": {},
   "source": [
    "## Use a piece of the functional model"
   ]
  },
  {
   "cell_type": "markdown",
   "metadata": {},
   "source": [
    "Let's isolate the section of the network that deals with the time inputs. This should give us a feature that takes th e time information and turns it into a single feature for use \"downstream\"."
   ]
  },
  {
   "cell_type": "code",
   "execution_count": null,
   "metadata": {},
   "outputs": [],
   "source": [
    "time_model = Model(inputs=model.input[0], outputs=[model.get_layer('time_output').output])"
   ]
  },
  {
   "cell_type": "code",
   "execution_count": 17,
   "metadata": {},
   "outputs": [
    {
     "data": {
      "text/plain": [
       "array([[-1.3463823],\n",
       "       [-1.5925716],\n",
       "       [-1.5398624],\n",
       "       [-1.4910517],\n",
       "       [-1.5557312],\n",
       "       [-1.5957273],\n",
       "       [-1.3695811],\n",
       "       [-1.3146689],\n",
       "       [-1.8649305],\n",
       "       [-0.9597399]], dtype=float32)"
      ]
     },
     "execution_count": 17,
     "metadata": {},
     "output_type": "execute_result"
    }
   ],
   "source": [
    "time_model.predict(x_train_time[-10:])"
   ]
  },
  {
   "cell_type": "code",
   "execution_count": 18,
   "metadata": {},
   "outputs": [
    {
     "name": "stdout",
     "output_type": "stream",
     "text": [
      "(2, 16) [[ 1.1006202  -0.59126     0.7817453  -0.19318482 -1.0560261   0.67028785\n",
      "   0.8089793   0.7041384  -0.05405968 -0.1600059  -0.48562428 -0.15013134\n",
      "  -0.6641962   0.53671956 -0.03785473 -0.06396657]\n",
      " [-0.38312995  0.04411672  0.15413754 -0.42213166 -0.01427114  0.36972877\n",
      "  -0.455643    0.5211218  -0.51342744 -0.14241186 -0.21350363  1.0713625\n",
      "   0.12381898 -0.40203768 -0.44977364  0.35644022]]\n",
      "(16,) [-0.36034125  0.40070915 -0.5608934   0.          0.39051455  0.11247352\n",
      "  0.16503797  0.12347531  0.          0.21427883  0.         -0.61570156\n",
      "  0.41773477  0.2657175   0.          0.14661647]\n",
      "(16, 4) [[-1.8763926  -0.2276423  -1.5538567  -1.4031215 ]\n",
      " [ 0.37175065 -0.11826763 -0.73615617 -0.8940311 ]\n",
      " [-1.8728302  -0.4939269  -2.3833761  -1.5707208 ]\n",
      " [ 0.4229197  -0.43980125  0.1301558   0.21825045]\n",
      " [ 0.15076193 -0.38810956 -3.4757812  -4.2842336 ]\n",
      " [ 0.44257054  0.09259248  0.28451464  0.26136485]\n",
      " [ 0.4776318  -0.22091523  0.08642041  0.24201648]\n",
      " [ 0.62056214 -0.10716811  0.61162627  0.82130986]\n",
      " [ 0.01470971  0.31613946 -0.43368924  0.39531457]\n",
      " [ 0.45365402 -0.4973402   0.07327781 -0.18158872]\n",
      " [ 0.38450783  0.02849257  0.31485444  0.16037774]\n",
      " [-1.447327    0.43560612 -1.8759894  -2.0960019 ]\n",
      " [-0.28500953 -0.22795281 -0.43247092 -0.7151634 ]\n",
      " [ 0.62570834  0.2897297   0.84716     0.9321202 ]\n",
      " [-0.36711848 -0.26384577 -0.02449858 -0.41469455]\n",
      " [-0.01545458 -0.280101    0.08513516  0.3142408 ]]\n",
      "(4,) [0.11521953 0.         0.09875263 0.18386145]\n",
      "(4, 1) [[-1.2167133 ]\n",
      " [-0.28734547]\n",
      " [-1.5553516 ]\n",
      " [-1.2221953 ]]\n",
      "(1,) [-0.10874238]\n"
     ]
    }
   ],
   "source": [
    "for layer in time_model.get_weights():\n",
    "    print(layer.shape, layer)"
   ]
  },
  {
   "cell_type": "code",
   "execution_count": 19,
   "metadata": {},
   "outputs": [
    {
     "data": {
      "text/plain": [
       "array([[-0.924467]], dtype=float32)"
      ]
     },
     "execution_count": 19,
     "metadata": {},
     "output_type": "execute_result"
    }
   ],
   "source": [
    "time_model.predict(np.array([[0,0]]))"
   ]
  },
  {
   "cell_type": "code",
   "execution_count": 20,
   "metadata": {},
   "outputs": [],
   "source": [
    "def do_prediction(X):\n",
    "    X = X.copy()\n",
    "    for layer in time_model.get_weights():\n",
    "        if len(layer.shape) == 1:\n",
    "            X = X + layer\n",
    "        else:\n",
    "            X = X @ layer \n",
    "    return X"
   ]
  },
  {
   "cell_type": "code",
   "execution_count": 21,
   "metadata": {},
   "outputs": [
    {
     "data": {
      "text/plain": [
       "array([[-7.89769523],\n",
       "       [-8.05327511],\n",
       "       [-7.93542767],\n",
       "       [-8.06025029],\n",
       "       [-7.92466595],\n",
       "       [-7.89224794],\n",
       "       [-7.96638421],\n",
       "       [-7.93323547],\n",
       "       [-7.94080853],\n",
       "       [-7.91968367]])"
      ]
     },
     "execution_count": 21,
     "metadata": {},
     "output_type": "execute_result"
    }
   ],
   "source": [
    "do_prediction(x_train_time[:10])"
   ]
  },
  {
   "cell_type": "code",
   "execution_count": 22,
   "metadata": {},
   "outputs": [
    {
     "data": {
      "text/plain": [
       "<matplotlib.legend.Legend at 0x1a369d7908>"
      ]
     },
     "execution_count": 22,
     "metadata": {},
     "output_type": "execute_result"
    },
    {
     "data": {
      "image/png": "[encoded data removed]",
      "text/plain": [
       "<Figure size 900x600 with 1 Axes>"
      ]
     },
     "metadata": {
      "needs_background": "light"
     },
     "output_type": "display_data"
    }
   ],
   "source": [
    "plt.figure(dpi=150)\n",
    "\n",
    "for day in range(7):\n",
    "    Xa = np.concatenate([np.linspace(0,1,200).reshape(-1,1), np.ones((200,1))*day/7], axis=1)\n",
    "    y = time_model.predict(Xa)\n",
    "    plt.plot(Xa[:, 0]*24, y, label=day)\n",
    "\n",
    "plt.xlim(0,24)\n",
    "plt.legend()"
   ]
  },
  {
   "cell_type": "code",
   "execution_count": 28,
   "metadata": {},
   "outputs": [
    {
     "data": {
      "text/plain": [
       "1.0"
      ]
     },
     "execution_count": 28,
     "metadata": {},
     "output_type": "execute_result"
    }
   ],
   "source": [
    "np.max(x_train_time[:, 1])"
   ]
  },
  {
   "cell_type": "markdown",
   "metadata": {},
   "source": [
    "## simple model"
   ]
  },
  {
   "cell_type": "code",
   "execution_count": 29,
   "metadata": {},
   "outputs": [],
   "source": [
    "X = np.linspace(0,2,400)\n",
    "y = 3*X**2 -2*X + np.random.random(size=(400,))\n",
    "X = X.reshape(-1,1)"
   ]
  },
  {
   "cell_type": "code",
   "execution_count": 30,
   "metadata": {},
   "outputs": [],
   "source": [
    "m = Sequential()\n",
    "m.add(Dense(1024, input_shape=(1,), activation='relu'))\n",
    "m.add(Dense(64, activation='relu'))\n",
    "m.add(Dense(32, activation='sigmoid'))\n",
    "m.add(Dense(16, activation='relu'))\n",
    "m.add(Dense(8, activation='relu'))\n",
    "m.add(Dense(1, activation='linear'))\n"
   ]
  },
  {
   "cell_type": "code",
   "execution_count": 31,
   "metadata": {},
   "outputs": [],
   "source": [
    "m.compile(optimizer='adam', loss='mean_squared_error')"
   ]
  },
  {
   "cell_type": "code",
   "execution_count": 32,
   "metadata": {},
   "outputs": [
    {
     "name": "stdout",
     "output_type": "stream",
     "text": [
      "Train on 388 samples, validate on 12 samples\n",
      "Epoch 1/50\n",
      "388/388 [==============================] - 1s 2ms/step - loss: 9.3208 - val_loss: 56.7235\n",
      "Epoch 2/50\n",
      "388/388 [==============================] - 0s 347us/step - loss: 7.2103 - val_loss: 44.2578\n",
      "Epoch 3/50\n",
      "388/388 [==============================] - 0s 347us/step - loss: 5.1385 - val_loss: 32.7877\n",
      "Epoch 4/50\n",
      "388/388 [==============================] - 0s 342us/step - loss: 4.2412 - val_loss: 27.4937\n",
      "Epoch 5/50\n",
      "388/388 [==============================] - 0s 346us/step - loss: 3.9047 - val_loss: 26.3204\n",
      "Epoch 6/50\n",
      "388/388 [==============================] - 0s 342us/step - loss: 3.5061 - val_loss: 24.3767\n",
      "Epoch 7/50\n",
      "388/388 [==============================] - 0s 344us/step - loss: 3.0797 - val_loss: 22.3058\n",
      "Epoch 8/50\n",
      "388/388 [==============================] - 0s 344us/step - loss: 2.6280 - val_loss: 18.7076\n",
      "Epoch 9/50\n",
      "388/388 [==============================] - 0s 345us/step - loss: 2.2089 - val_loss: 17.1998\n",
      "Epoch 10/50\n",
      "388/388 [==============================] - 0s 341us/step - loss: 1.7789 - val_loss: 14.5179\n",
      "Epoch 11/50\n",
      "388/388 [==============================] - 0s 345us/step - loss: 1.3922 - val_loss: 12.0773\n",
      "Epoch 12/50\n",
      "388/388 [==============================] - 0s 346us/step - loss: 1.0291 - val_loss: 9.9265\n",
      "Epoch 13/50\n",
      "388/388 [==============================] - 0s 345us/step - loss: 0.7414 - val_loss: 7.7140\n",
      "Epoch 14/50\n",
      "388/388 [==============================] - 0s 348us/step - loss: 0.5255 - val_loss: 6.1510\n",
      "Epoch 15/50\n",
      "388/388 [==============================] - 0s 347us/step - loss: 0.3627 - val_loss: 4.8221\n",
      "Epoch 16/50\n",
      "388/388 [==============================] - 0s 343us/step - loss: 0.2787 - val_loss: 3.8708\n",
      "Epoch 17/50\n",
      "388/388 [==============================] - 0s 368us/step - loss: 0.2131 - val_loss: 3.1582\n",
      "Epoch 18/50\n",
      "388/388 [==============================] - 0s 347us/step - loss: 0.1760 - val_loss: 2.4876\n",
      "Epoch 19/50\n",
      "388/388 [==============================] - 0s 345us/step - loss: 0.1524 - val_loss: 2.0046\n",
      "Epoch 20/50\n",
      "388/388 [==============================] - 0s 343us/step - loss: 0.1377 - val_loss: 1.5717\n",
      "Epoch 21/50\n",
      "388/388 [==============================] - 0s 345us/step - loss: 0.1394 - val_loss: 1.2621\n",
      "Epoch 22/50\n",
      "388/388 [==============================] - 0s 346us/step - loss: 0.1295 - val_loss: 1.3393\n",
      "Epoch 23/50\n",
      "388/388 [==============================] - 0s 347us/step - loss: 0.1158 - val_loss: 1.2322\n",
      "Epoch 24/50\n",
      "388/388 [==============================] - 0s 345us/step - loss: 0.1198 - val_loss: 0.8914\n",
      "Epoch 25/50\n",
      "388/388 [==============================] - 0s 345us/step - loss: 0.1200 - val_loss: 0.7767\n",
      "Epoch 26/50\n",
      "388/388 [==============================] - 0s 343us/step - loss: 0.1223 - val_loss: 0.7672\n",
      "Epoch 27/50\n",
      "388/388 [==============================] - 0s 343us/step - loss: 0.1179 - val_loss: 0.8280\n",
      "Epoch 28/50\n",
      "388/388 [==============================] - 0s 349us/step - loss: 0.1078 - val_loss: 0.5712\n",
      "Epoch 29/50\n",
      "388/388 [==============================] - 0s 349us/step - loss: 0.1396 - val_loss: 0.5238\n",
      "Epoch 30/50\n",
      "388/388 [==============================] - 0s 346us/step - loss: 0.1150 - val_loss: 0.5780\n",
      "Epoch 31/50\n",
      "388/388 [==============================] - 0s 347us/step - loss: 0.0999 - val_loss: 0.5481\n",
      "Epoch 32/50\n",
      "388/388 [==============================] - 0s 349us/step - loss: 0.0966 - val_loss: 0.5376\n",
      "Epoch 33/50\n",
      "388/388 [==============================] - 0s 348us/step - loss: 0.0996 - val_loss: 0.4960\n",
      "Epoch 34/50\n",
      "388/388 [==============================] - 0s 345us/step - loss: 0.0956 - val_loss: 0.4746\n",
      "Epoch 35/50\n",
      "388/388 [==============================] - 0s 344us/step - loss: 0.0984 - val_loss: 0.5583\n",
      "Epoch 36/50\n",
      "388/388 [==============================] - 0s 351us/step - loss: 0.1031 - val_loss: 0.4769\n",
      "Epoch 37/50\n",
      "388/388 [==============================] - 0s 347us/step - loss: 0.0955 - val_loss: 0.4431\n",
      "Epoch 38/50\n",
      "388/388 [==============================] - 0s 346us/step - loss: 0.0952 - val_loss: 0.4866\n",
      "Epoch 39/50\n",
      "388/388 [==============================] - 0s 343us/step - loss: 0.0992 - val_loss: 0.5827\n",
      "Epoch 40/50\n",
      "388/388 [==============================] - 0s 347us/step - loss: 0.1054 - val_loss: 0.3896\n",
      "Epoch 41/50\n",
      "388/388 [==============================] - 0s 344us/step - loss: 0.0980 - val_loss: 0.2549\n",
      "Epoch 42/50\n",
      "388/388 [==============================] - 0s 346us/step - loss: 0.1034 - val_loss: 0.3884\n",
      "Epoch 43/50\n",
      "388/388 [==============================] - 0s 353us/step - loss: 0.1009 - val_loss: 0.4400\n",
      "Epoch 44/50\n",
      "388/388 [==============================] - 0s 347us/step - loss: 0.0930 - val_loss: 0.3564\n",
      "Epoch 45/50\n",
      "388/388 [==============================] - 0s 348us/step - loss: 0.0915 - val_loss: 0.4646\n",
      "Epoch 46/50\n",
      "388/388 [==============================] - 0s 350us/step - loss: 0.0950 - val_loss: 0.3291\n",
      "Epoch 47/50\n",
      "388/388 [==============================] - 0s 347us/step - loss: 0.0943 - val_loss: 0.4571\n",
      "Epoch 48/50\n",
      "388/388 [==============================] - 0s 344us/step - loss: 0.0941 - val_loss: 0.3334\n",
      "Epoch 49/50\n",
      "388/388 [==============================] - 0s 345us/step - loss: 0.0998 - val_loss: 0.3819\n",
      "Epoch 50/50\n",
      "388/388 [==============================] - 0s 349us/step - loss: 0.0997 - val_loss: 0.2353\n"
     ]
    },
    {
     "data": {
      "text/plain": [
       "<keras.callbacks.History at 0x1a36b307f0>"
      ]
     },
     "execution_count": 32,
     "metadata": {},
     "output_type": "execute_result"
    }
   ],
   "source": [
    "m.fit(X, y, epochs=50, \n",
    "      validation_split=0.03)"
   ]
  },
  {
   "cell_type": "code",
   "execution_count": 33,
   "metadata": {},
   "outputs": [
    {
     "data": {
      "text/plain": [
       "[<matplotlib.lines.Line2D at 0x1a374f4a58>]"
      ]
     },
     "execution_count": 33,
     "metadata": {},
     "output_type": "execute_result"
    },
    {
     "data": {
      "image/png": "[encoded data removed]",
      "text/plain": [
       "<Figure size 432x288 with 1 Axes>"
      ]
     },
     "metadata": {
      "needs_background": "light"
     },
     "output_type": "display_data"
    }
   ],
   "source": [
    "plt.plot(X, m.predict(X))\n",
    "plt.plot(X, y)"
   ]
  },
  {
   "cell_type": "code",
   "execution_count": 34,
   "metadata": {},
   "outputs": [
    {
     "data": {
      "text/plain": [
       "[<matplotlib.lines.Line2D at 0x1a376d46a0>]"
      ]
     },
     "execution_count": 34,
     "metadata": {},
     "output_type": "execute_result"
    },
    {
     "data": {
      "image/png": "[encoded data removed]",
      "text/plain": [
       "<Figure size 432x288 with 1 Axes>"
      ]
     },
     "metadata": {
      "needs_background": "light"
     },
     "output_type": "display_data"
    }
   ],
   "source": [
    "Xtrapolate = np.linspace(0,10,100)\n",
    "plt.plot(Xtrapolate, m.predict(Xtrapolate))"
   ]
  },
  {
   "cell_type": "code",
   "execution_count": null,
   "metadata": {},
   "outputs": [],
   "source": []
  }
 ],
 "metadata": {
  "kernelspec": {
   "display_name": "Python 3",
   "language": "python",
   "name": "python3"
  },
  "language_info": {
   "codemirror_mode": {
    "name": "ipython",
    "version": 3
   },
   "file_extension": ".py",
   "mimetype": "text/x-python",
   "name": "python",
   "nbconvert_exporter": "python",
   "pygments_lexer": "ipython3",
   "version": "3.6.8"
  }
 },
 "nbformat": 4,
 "nbformat_minor": 2
}
